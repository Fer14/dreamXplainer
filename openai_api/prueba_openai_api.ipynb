{
 "cells": [
  {
   "cell_type": "code",
   "execution_count": 77,
   "metadata": {},
   "outputs": [],
   "source": [
    "# Librerias requeridas:\n",
    "import os\n",
    "import openai\n",
    "import pandas as pd\n",
    "import numpy as np"
   ]
  },
  {
   "cell_type": "code",
   "execution_count": 78,
   "metadata": {},
   "outputs": [],
   "source": [
    "# Global variables:\n",
    "API_KEY = \"yourApiKey\"\n",
    "# openai.api_key = os.getenv(API_KEY)\n",
    "openai.api_key = API_KEY"
   ]
  },
  {
   "cell_type": "code",
   "execution_count": 79,
   "metadata": {},
   "outputs": [],
   "source": [
    "keyword = {'FUNNY':'be very funny, introducing new crazy characters',\n",
    "           'ROMANTIC': 'be very romantic, introducing love and relationships in your story',\n",
    "           'SAD': 'be very sad, negative, disheartened and disastrous story',\n",
    "           'SERIOUS':'be extremely rigurous, the sotry needs to be real, without crazy stuff',\n",
    "           'SEXUAL':'be extremely sexual and filthy, containing porn scenes and hot sentences',\n",
    "           'TARANTINO':'be very dramatic, related with blood, deaths and violence, and lots of blood',\n",
    "           'ACTION':'contain plenty of action, with many fights and explosions',\n",
    "           }"
   ]
  },
  {
   "cell_type": "code",
   "execution_count": 80,
   "metadata": {},
   "outputs": [],
   "source": [
    "keyword = {'FUNNY': 'ser muy divertido, introducir nuevos personajes locos',\n",
    "           'ROMANTIC': 'ser muy romántico, introducir el amor y las relaciones amorosas en tu historia',\n",
    "           'SAD': 'ser muy triste, negativo, descorazonador y desastroso',\n",
    "           'SERIOUS': 'ser extremadamente riguroso, la historia debe ser real, sin cosas locas',\n",
    "           'SEXUAL': 'ser extremadamente sexual y sucio, contener escenas pornográficas y frases picantes',\n",
    "           'TARANTINO': 'ser muy dramático, relacionado con sangre, muertes y violencia, y mucha sangre',\n",
    "           'ACTION': 'contener mucha acción, con muchas peleas y explosiones'}"
   ]
  },
  {
   "cell_type": "code",
   "execution_count": 81,
   "metadata": {},
   "outputs": [],
   "source": [
    "pre_prompt = '''You will be given a dream that I had last night and you have to come up with a story that fulfills the dream and an explanation. Your answer has to be 2 paragraphs long.\n",
    "In the first paragraph, you will answer why I dreamt of that thing, what does it signify and what should I expect next in my life according to this dream. You can make guesses and speculate about whatever you want. Try to {}. This paragraph will be 2 or 3 sentences long.\n",
    "In the second paragraph, you will complete what happened after the dream as if I had not woken up. You have to be creative and the story has to {}. Use the past tense. Avoid talking in first person. This paragraph will be 2 sentences long.\n",
    "The story in the dream I had last night was: \"\n",
    "'''.format(keyword['SEXUAL'], keyword['SEXUAL'])"
   ]
  },
  {
   "cell_type": "code",
   "execution_count": 92,
   "metadata": {},
   "outputs": [],
   "source": [
    "pre_prompt = '''Te voy a escribir un sueño que yo tuve anoche y tienes que inventarte una historia que continúe con el sueño y una explicación del sueño. Tu respuesta debe tener 2 párrafos.\n",
    "En el primer párrafo, explica por qué soñé con esa cosa, qué significa y qué debo esperar en mi vida según este sueño. Puedes hacer conjeturas y especular sobre lo que quieras. Intenta {}. El párrafo tiene que ser corto.\n",
    "En el segundo párrafo, continua el sueño de forma natural, utilizando la segunda persona. Tienes que ser creativo y la explicación tiene que {}. El párrafo tiene que ser corto. No introduzcas el párrafo con frases como: \"Continuando el sueño...\", ni \"Te despiertas en...\".\n",
    "El sueño que tuve anoche fue: \"\n",
    "'''.format(keyword['ROMANTIC'], keyword['ROMANTIC'])"
   ]
  },
  {
   "cell_type": "code",
   "execution_count": 99,
   "metadata": {},
   "outputs": [],
   "source": [
    "dream = '''jugaba a futbol con Messi en un parque y despues nos ibamos a comer juntos a un restuarante italiano\"\n",
    "'''"
   ]
  },
  {
   "cell_type": "code",
   "execution_count": 100,
   "metadata": {},
   "outputs": [],
   "source": [
    "explanation = '''\n",
    " The interpretation you come up with is: \"\n",
    " '''\n",
    "\n",
    "explanation = '''\n",
    "La interpretación y la continuación del sueño son: \"\n",
    "'''"
   ]
  },
  {
   "cell_type": "code",
   "execution_count": 101,
   "metadata": {},
   "outputs": [],
   "source": [
    "final_prompt = pre_prompt + dream + explanation"
   ]
  },
  {
   "cell_type": "code",
   "execution_count": 102,
   "metadata": {},
   "outputs": [
    {
     "name": "stdout",
     "output_type": "stream",
     "text": [
      "El sueño que tuviste anoche con Messi yendo a comer juntos a un restaurante italiano sugiere un deseo de excelencia en tu vida amorosa. La habilidad de Messi en el fútbol representa tu deseo de tener un tal madurez y habilidad en las relaciones amorosas que te lleve al éxito. También, el restaurante representa la importancia de las relaciones a través de la comida y cómo el compartir una buena comida puede aumentar la intimidad entre dos personas. Este sueño sugiere que debes trabajar en tu relación actual y encontrar maneras de mejorar la comunicación y el compromiso. \n",
      "\n",
      "Mientras estás sentado en el restaurante italiano con Messi, notas que sus ojos brillan y su piel parece radiante. Te mira con una sonrisa llena de felicidad y te dice: \"Me alegra que estemos aquí juntos. Nada me hace más feliz que compartir un buen momento con alguien que me importa. Espero que esta noche solo sea el principio de una larga amistad\". Mientras sus palabras resuenan en tu mente, te sientes conectado con él en una manera que nunca antes habías sentido. La comida es exquisita y el ambiente es perfecto. Te das cuenta de que disfrutas de la compañía de Messi y que esta noche puede ser la primera de muchas aventuras juntos.\n"
     ]
    }
   ],
   "source": [
    "completion = openai.ChatCompletion.create(\n",
    "  model=\"gpt-3.5-turbo\",\n",
    "  messages=[\n",
    "    {\"role\": \"user\", \"content\": final_prompt}\n",
    "  ]\n",
    ")\n",
    "\n",
    "result = completion.choices[0].message['content']\n",
    "print(u'{}'.format(result))"
   ]
  },
  {
   "cell_type": "code",
   "execution_count": null,
   "metadata": {},
   "outputs": [],
   "source": []
  },
  {
   "cell_type": "code",
   "execution_count": null,
   "metadata": {},
   "outputs": [],
   "source": []
  },
  {
   "cell_type": "code",
   "execution_count": null,
   "metadata": {},
   "outputs": [],
   "source": []
  },
  {
   "cell_type": "code",
   "execution_count": null,
   "metadata": {},
   "outputs": [],
   "source": []
  },
  {
   "cell_type": "code",
   "execution_count": null,
   "metadata": {},
   "outputs": [],
   "source": []
  },
  {
   "cell_type": "code",
   "execution_count": null,
   "metadata": {},
   "outputs": [],
   "source": []
  },
  {
   "cell_type": "code",
   "execution_count": null,
   "metadata": {},
   "outputs": [],
   "source": []
  },
  {
   "cell_type": "code",
   "execution_count": null,
   "metadata": {},
   "outputs": [],
   "source": []
  },
  {
   "attachments": {},
   "cell_type": "markdown",
   "metadata": {},
   "source": [
    "### Pruebas de borrador para codificar texto en español"
   ]
  },
  {
   "cell_type": "code",
   "execution_count": 87,
   "metadata": {},
   "outputs": [
    {
     "name": "stdout",
     "output_type": "stream",
     "text": [
      "\n",
      "\n",
      "Claro, hablo español con fluidez. ¿En qué te puedo ayudar?\n"
     ]
    }
   ],
   "source": [
    "texto = \"\\n\\nClaro, hablo espa\\u00f1ol con fluidez. \\u00bfEn qu\\u00e9 te puedo ayudar?\"\n",
    "texto_procesado = texto.encode('utf-8').decode('utf-8')\n",
    "print(texto_procesado)"
   ]
  },
  {
   "cell_type": "code",
   "execution_count": 88,
   "metadata": {},
   "outputs": [
    {
     "name": "stdout",
     "output_type": "stream",
     "text": [
      "\n",
      "\n",
      "Claro, hablo\n",
      " español con fluidez. ¿En qué te puedo ayudar?\n"
     ]
    }
   ],
   "source": [
    "print(u\"\\n\\nClaro, hablo\\n espa\\u00f1ol con fluidez. \\u00bfEn qu\\u00e9 te puedo ayudar?\")"
   ]
  },
  {
   "cell_type": "code",
   "execution_count": null,
   "metadata": {},
   "outputs": [],
   "source": []
  }
 ],
 "metadata": {
  "kernelspec": {
   "display_name": "Python 3.9.12 ('base')",
   "language": "python",
   "name": "python3"
  },
  "language_info": {
   "codemirror_mode": {
    "name": "ipython",
    "version": 3
   },
   "file_extension": ".py",
   "mimetype": "text/x-python",
   "name": "python",
   "nbconvert_exporter": "python",
   "pygments_lexer": "ipython3",
   "version": "3.11.2"
  },
  "orig_nbformat": 4,
  "vscode": {
   "interpreter": {
    "hash": "b8eb70269348e00faa8da8f81b3d05c4a0619216546b98df7bb62a3c53b5b1dd"
   }
  }
 },
 "nbformat": 4,
 "nbformat_minor": 2
}
