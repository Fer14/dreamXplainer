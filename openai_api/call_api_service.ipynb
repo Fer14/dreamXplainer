{
 "cells": [
  {
   "attachments": {},
   "cell_type": "markdown",
   "metadata": {},
   "source": [
    "### Notebook that shows how to make an API call to return predictions from trained model"
   ]
  },
  {
   "cell_type": "code",
   "execution_count": 1,
   "metadata": {},
   "outputs": [],
   "source": [
    "# Libraries:\n",
    "import pandas as pd\n",
    "import requests"
   ]
  },
  {
   "attachments": {},
   "cell_type": "markdown",
   "metadata": {},
   "source": [
    "### 1. Example of a GET request"
   ]
  },
  {
   "cell_type": "code",
   "execution_count": 2,
   "metadata": {},
   "outputs": [
    {
     "name": "stdout",
     "output_type": "stream",
     "text": [
      "{'fecha_actual': '2023-02-08 11:39:39'}\n"
     ]
    }
   ],
   "source": [
    "# Define application URL:\n",
    "url = \"http://10.99.191.249:8080\"\n",
    "\n",
    "# Define the get URL:\n",
    "endpoint_name = '/metadata/fecha_actual'\n",
    "get_url = url + endpoint_name\n",
    "\n",
    "# Call API and read response:\n",
    "response = requests.get(get_url)\n",
    "result = response.json()\n",
    "\n",
    "print(result)"
   ]
  },
  {
   "attachments": {},
   "cell_type": "markdown",
   "metadata": {},
   "source": [
    "### 2. Example of a POST request"
   ]
  },
  {
   "cell_type": "code",
   "execution_count": 4,
   "metadata": {},
   "outputs": [
    {
     "name": "stdout",
     "output_type": "stream",
     "text": [
      "Llamada correcta: 200\n",
      "{'pred_class': 2.0, 'pred_prob': 0.89}\n"
     ]
    }
   ],
   "source": [
    "# Define the post URL:\n",
    "endpoint_name = '/predict'\n",
    "post_url = url + endpoint_name\n",
    "\n",
    "# Call API and read response:\n",
    "response = requests.post(post_url, json = {\"colA\":4.5, \"colB\":66, \"colC\":9.98, \"colD\":3.34})\n",
    "result = response.json()\n",
    "\n",
    "if response.status_code == 200:\n",
    "    print('Llamada correcta:', response.status_code)\n",
    "    print(result)\n",
    "else:\n",
    "    print(\"URL is not responding\", response.status_code)"
   ]
  },
  {
   "attachments": {},
   "cell_type": "markdown",
   "metadata": {},
   "source": [
    "### 3. Full example"
   ]
  },
  {
   "cell_type": "code",
   "execution_count": 13,
   "metadata": {},
   "outputs": [
    {
     "data": {
      "text/html": [
       "<div>\n",
       "<style scoped>\n",
       "    .dataframe tbody tr th:only-of-type {\n",
       "        vertical-align: middle;\n",
       "    }\n",
       "\n",
       "    .dataframe tbody tr th {\n",
       "        vertical-align: top;\n",
       "    }\n",
       "\n",
       "    .dataframe thead th {\n",
       "        text-align: right;\n",
       "    }\n",
       "</style>\n",
       "<table border=\"1\" class=\"dataframe\">\n",
       "  <thead>\n",
       "    <tr style=\"text-align: right;\">\n",
       "      <th></th>\n",
       "      <th>sepal_length</th>\n",
       "      <th>sepal_width</th>\n",
       "      <th>petal_length</th>\n",
       "      <th>petal_width</th>\n",
       "    </tr>\n",
       "  </thead>\n",
       "  <tbody>\n",
       "    <tr>\n",
       "      <th>0</th>\n",
       "      <td>1.0</td>\n",
       "      <td>3.200</td>\n",
       "      <td>44.00</td>\n",
       "      <td>10.00</td>\n",
       "    </tr>\n",
       "    <tr>\n",
       "      <th>1</th>\n",
       "      <td>0.2</td>\n",
       "      <td>4.000</td>\n",
       "      <td>0.60</td>\n",
       "      <td>6.66</td>\n",
       "    </tr>\n",
       "    <tr>\n",
       "      <th>2</th>\n",
       "      <td>8.0</td>\n",
       "      <td>1.111</td>\n",
       "      <td>7.55</td>\n",
       "      <td>3.00</td>\n",
       "    </tr>\n",
       "  </tbody>\n",
       "</table>\n",
       "</div>"
      ],
      "text/plain": [
       "   sepal_length  sepal_width  petal_length  petal_width\n",
       "0           1.0        3.200         44.00        10.00\n",
       "1           0.2        4.000          0.60         6.66\n",
       "2           8.0        1.111          7.55         3.00"
      ]
     },
     "execution_count": 13,
     "metadata": {},
     "output_type": "execute_result"
    }
   ],
   "source": [
    "# Create a sample Pandas DataFrame of new rows and predict them:\n",
    "\n",
    "df_to_predict = pd.DataFrame(data = [[1, 3.2, 44, 10],\n",
    "                                     [0.2, 4, 0.6, 6.66],\n",
    "                                     [8, 1.111, 7.55, 3]],\n",
    "                             \n",
    "                             columns = ['sepal_length', 'sepal_width', 'petal_length', 'petal_width']\n",
    "                             )\n",
    "\n",
    "df_to_predict"
   ]
  },
  {
   "cell_type": "code",
   "execution_count": 14,
   "metadata": {},
   "outputs": [
    {
     "data": {
      "text/html": [
       "<div>\n",
       "<style scoped>\n",
       "    .dataframe tbody tr th:only-of-type {\n",
       "        vertical-align: middle;\n",
       "    }\n",
       "\n",
       "    .dataframe tbody tr th {\n",
       "        vertical-align: top;\n",
       "    }\n",
       "\n",
       "    .dataframe thead th {\n",
       "        text-align: right;\n",
       "    }\n",
       "</style>\n",
       "<table border=\"1\" class=\"dataframe\">\n",
       "  <thead>\n",
       "    <tr style=\"text-align: right;\">\n",
       "      <th></th>\n",
       "      <th>sepal_length</th>\n",
       "      <th>sepal_width</th>\n",
       "      <th>petal_length</th>\n",
       "      <th>petal_width</th>\n",
       "      <th>predicted_class</th>\n",
       "      <th>predicted_probability</th>\n",
       "      <th>predict_date</th>\n",
       "    </tr>\n",
       "  </thead>\n",
       "  <tbody>\n",
       "    <tr>\n",
       "      <th>0</th>\n",
       "      <td>1.0</td>\n",
       "      <td>3.200</td>\n",
       "      <td>44.00</td>\n",
       "      <td>10.00</td>\n",
       "      <td>None</td>\n",
       "      <td>None</td>\n",
       "      <td>None</td>\n",
       "    </tr>\n",
       "    <tr>\n",
       "      <th>1</th>\n",
       "      <td>0.2</td>\n",
       "      <td>4.000</td>\n",
       "      <td>0.60</td>\n",
       "      <td>6.66</td>\n",
       "      <td>None</td>\n",
       "      <td>None</td>\n",
       "      <td>None</td>\n",
       "    </tr>\n",
       "    <tr>\n",
       "      <th>2</th>\n",
       "      <td>8.0</td>\n",
       "      <td>1.111</td>\n",
       "      <td>7.55</td>\n",
       "      <td>3.00</td>\n",
       "      <td>None</td>\n",
       "      <td>None</td>\n",
       "      <td>None</td>\n",
       "    </tr>\n",
       "  </tbody>\n",
       "</table>\n",
       "</div>"
      ],
      "text/plain": [
       "   sepal_length  sepal_width  petal_length  petal_width predicted_class  \\\n",
       "0           1.0        3.200         44.00        10.00            None   \n",
       "1           0.2        4.000          0.60         6.66            None   \n",
       "2           8.0        1.111          7.55         3.00            None   \n",
       "\n",
       "  predicted_probability predict_date  \n",
       "0                  None         None  \n",
       "1                  None         None  \n",
       "2                  None         None  "
      ]
     },
     "execution_count": 14,
     "metadata": {},
     "output_type": "execute_result"
    }
   ],
   "source": [
    "# Define new columns to store predictions and prediction date:\n",
    "\n",
    "df_to_predict['predicted_class'] = None\n",
    "df_to_predict['predicted_probability'] = None\n",
    "df_to_predict['predict_date'] = None\n",
    "\n",
    "df_to_predict"
   ]
  },
  {
   "cell_type": "code",
   "execution_count": 15,
   "metadata": {},
   "outputs": [
    {
     "name": "stdout",
     "output_type": "stream",
     "text": [
      "Llamada correcta: 200\n"
     ]
    }
   ],
   "source": [
    "# Call API for each row and save the response\n",
    "\n",
    "for i, row in df_to_predict.iterrows():\n",
    "    \n",
    "    # Call API:\n",
    "    response_get = requests.get(get_url)\n",
    "    result_get = response_get.json()\n",
    "    \n",
    "    response_post = requests.post(post_url, json = df_to_predict.loc[i][:-3].to_dict())\n",
    "    result_post = response_post.json()\n",
    "    \n",
    "    # Insert response into DataFrame:\n",
    "    df_to_predict.at[i, 'predicted_class'] = result_post['pred_class']\n",
    "    df_to_predict.at[i, 'predicted_probability'] = result_post['pred_prob']\n",
    "    df_to_predict.at[i, 'predict_date'] = result_get['fecha_actual']\n",
    "\n",
    "if response_post.status_code == 200:\n",
    "    print('Llamada correcta:', response_post.status_code)\n",
    "else:\n",
    "    print(\"URL is not responding:\", response_post.status_code)"
   ]
  },
  {
   "cell_type": "code",
   "execution_count": 16,
   "metadata": {},
   "outputs": [
    {
     "data": {
      "text/html": [
       "<div>\n",
       "<style scoped>\n",
       "    .dataframe tbody tr th:only-of-type {\n",
       "        vertical-align: middle;\n",
       "    }\n",
       "\n",
       "    .dataframe tbody tr th {\n",
       "        vertical-align: top;\n",
       "    }\n",
       "\n",
       "    .dataframe thead th {\n",
       "        text-align: right;\n",
       "    }\n",
       "</style>\n",
       "<table border=\"1\" class=\"dataframe\">\n",
       "  <thead>\n",
       "    <tr style=\"text-align: right;\">\n",
       "      <th></th>\n",
       "      <th>sepal_length</th>\n",
       "      <th>sepal_width</th>\n",
       "      <th>petal_length</th>\n",
       "      <th>petal_width</th>\n",
       "      <th>predicted_class</th>\n",
       "      <th>predicted_probability</th>\n",
       "      <th>predict_date</th>\n",
       "    </tr>\n",
       "  </thead>\n",
       "  <tbody>\n",
       "    <tr>\n",
       "      <th>0</th>\n",
       "      <td>1.0</td>\n",
       "      <td>3.200</td>\n",
       "      <td>44.00</td>\n",
       "      <td>10.00</td>\n",
       "      <td>2</td>\n",
       "      <td>0.89</td>\n",
       "      <td>2023-02-08 11:41:12</td>\n",
       "    </tr>\n",
       "    <tr>\n",
       "      <th>1</th>\n",
       "      <td>0.2</td>\n",
       "      <td>4.000</td>\n",
       "      <td>0.60</td>\n",
       "      <td>6.66</td>\n",
       "      <td>0</td>\n",
       "      <td>0.48</td>\n",
       "      <td>2023-02-08 11:41:12</td>\n",
       "    </tr>\n",
       "    <tr>\n",
       "      <th>2</th>\n",
       "      <td>8.0</td>\n",
       "      <td>1.111</td>\n",
       "      <td>7.55</td>\n",
       "      <td>3.00</td>\n",
       "      <td>2</td>\n",
       "      <td>0.99</td>\n",
       "      <td>2023-02-08 11:41:12</td>\n",
       "    </tr>\n",
       "  </tbody>\n",
       "</table>\n",
       "</div>"
      ],
      "text/plain": [
       "   sepal_length  sepal_width  petal_length  petal_width predicted_class  \\\n",
       "0           1.0        3.200         44.00        10.00               2   \n",
       "1           0.2        4.000          0.60         6.66               0   \n",
       "2           8.0        1.111          7.55         3.00               2   \n",
       "\n",
       "  predicted_probability         predict_date  \n",
       "0                  0.89  2023-02-08 11:41:12  \n",
       "1                  0.48  2023-02-08 11:41:12  \n",
       "2                  0.99  2023-02-08 11:41:12  "
      ]
     },
     "execution_count": 16,
     "metadata": {},
     "output_type": "execute_result"
    }
   ],
   "source": [
    "# Show new DF:\n",
    "df_to_predict"
   ]
  },
  {
   "cell_type": "code",
   "execution_count": null,
   "metadata": {},
   "outputs": [],
   "source": []
  },
  {
   "cell_type": "code",
   "execution_count": null,
   "metadata": {},
   "outputs": [],
   "source": []
  },
  {
   "cell_type": "code",
   "execution_count": null,
   "metadata": {},
   "outputs": [],
   "source": []
  }
 ],
 "metadata": {
  "kernelspec": {
   "display_name": "buzon_consultas",
   "language": "python",
   "name": "python3"
  },
  "language_info": {
   "codemirror_mode": {
    "name": "ipython",
    "version": 3
   },
   "file_extension": ".py",
   "mimetype": "text/x-python",
   "name": "python",
   "nbconvert_exporter": "python",
   "pygments_lexer": "ipython3",
   "version": "3.7.6"
  },
  "orig_nbformat": 4,
  "vscode": {
   "interpreter": {
    "hash": "fe6478108d5462fa7abf399e529b7d6c941f03fb26cb96a08916bf97f5e07d85"
   }
  }
 },
 "nbformat": 4,
 "nbformat_minor": 2
}
